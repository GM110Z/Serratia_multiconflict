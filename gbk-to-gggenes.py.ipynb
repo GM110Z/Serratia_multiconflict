{
 "cells": [
  {
   "cell_type": "code",
   "execution_count": 1,
   "id": "941639c9",
   "metadata": {},
   "outputs": [
    {
     "name": "stdout",
     "output_type": "stream",
     "text": [
      "Working on the genomes...\n"
     ]
    },
    {
     "data": {
      "text/plain": [
       "0"
      ]
     },
     "execution_count": 1,
     "metadata": {},
     "output_type": "execute_result"
    }
   ],
   "source": [
    "import sys\n",
    "from Bio import SeqIO, SeqFeature\n",
    "import csv\n",
    "import glob\n",
    "import os\n",
    "import pandas as pd\n",
    "import numpy as np\n",
    "\n",
    "\n",
    "print('Working on the genomes...')\n",
    "#combine gbk file in working dir\n",
    "for f in glob.glob(\"*.gb\"):\n",
    "         os.system(\"cat \"+f+\" >> OutFile.gb\")\n",
    "\n",
    "# Parse combined records\n",
    "combined_files = SeqIO.parse(\"OutFile.gb\", format=\"genbank\")\n",
    "\n",
    "with open('prefiltered.txt', mode='w') as parsed_output:   #write table for Suppl.data with hitsID, scores and lenght\n",
    "                parsed_output = csv.writer(parsed_output, delimiter='\\t', quotechar='\"', quoting=csv.QUOTE_MINIMAL)\n",
    "                parsed_output.writerow(['Protein_ID','product', 'molecule', 'start', 'end', 'strand'])\n",
    "# Print the info of each record\n",
    "for rec in combined_files:\n",
    "    contig=rec.id\n",
    "    for feature in rec.features:\n",
    "        if feature.type == 'CDS':\n",
    "            try:\n",
    "                print(feature.qualifiers['protein_id'][0],\"\\t\",feature.qualifiers['product'][0],\"\\t\",contig,\"\\t\",feature.location.start,\"\\t\",feature.location.end,\"\\t\",feature.location.strand,\"\\n\", file=open('prefiltered.txt', 'a'))\n",
    "            except KeyError:\n",
    "                print(\"Pseudogene\",\"\\t\",\"Unknown\",\"\\t\",contig,\"\\t\",feature.location.start,\"\\t\",feature.location.end,\"\\t\",feature.location.strand,\"\\n\",file=open('prefiltered.txt', 'a'))\n",
    "\n",
    "\n",
    "\n",
    "df = pd.read_csv('prefiltered.txt', sep=\"\\t\", low_memory=False,skipinitialspace=True)\n",
    "df2=df[~df['start'].str.contains('>')]\n",
    "df3=df2[~df2['end'].str.contains('>')]\n",
    "df4=df3[~df3['start'].str.contains('<')]\n",
    "df5=df4[~df4['start'].str.contains('<')]\n",
    "\n",
    "\n",
    "#add the booundaries\n",
    "conditions = [\n",
    "    df5['product'].str.contains('GTPase'),\n",
    "    df5['product'].str.contains('LptG'),\n",
    "    df5['product'].str.contains('MdtM')]\n",
    "\n",
    "values = ['GTPase', 'LptG',\"MdtM\"]\n",
    "\n",
    "\n",
    "df5['Boundaries'] = np.select(conditions, values, default='NA')\n",
    "df5['strand'] = np.where(df5['strand']== -1, 0, df5['strand'])\n",
    "df5['molecule'].str.replace(' ', '')\n",
    "df5['Protein_ID'].str.replace(' ', '')\n",
    "df5.to_csv(\"gggenes-input.txt\", \"\\t\", index=False, header=True)\n",
    "\n",
    "\n",
    "                \n",
    "#removing combined file                \n",
    "os.system(\"rm OutFile.gb\") \n",
    "os.system(\"rm prefiltered.txt\") \n",
    "\n"
   ]
  },
  {
   "cell_type": "code",
   "execution_count": 2,
   "id": "a1904d48",
   "metadata": {},
   "outputs": [
    {
     "name": "stdout",
     "output_type": "stream",
     "text": [
      "Done with the genomes...Working on the PADLOC table now..\n",
      "Done!\n"
     ]
    }
   ],
   "source": [
    "import pandas as pd\n",
    "print('Done with the genomes...Working on the PADLOC table now..')\n",
    "#make padloc file now\n",
    "#for f in glob.glob(\"*.csv\"):\n",
    " #        os.system(\"cat \"+f+\" >> padloc-big.csv\")\n",
    "\n",
    "deff=pd.read_csv('coli-padloc.csv', sep=\",\", low_memory=False)\n",
    "new_dataframe1 = deff[['seqid','start','end', 'target.name','system','strand']]\n",
    "new_dataframe1.to_csv(\"padlocforR.txt\", \"\\t\", index=False, header=True)\n",
    "#os.system(\"rm padloc-big.csv\") \n",
    "\n",
    "print('Done!')\n",
    "\n"
   ]
  },
  {
   "cell_type": "code",
   "execution_count": null,
   "id": "ebbca7bd",
   "metadata": {},
   "outputs": [],
   "source": []
  }
 ],
 "metadata": {
  "kernelspec": {
   "display_name": "Python 3 (ipykernel)",
   "language": "python",
   "name": "python3"
  },
  "language_info": {
   "codemirror_mode": {
    "name": "ipython",
    "version": 3
   },
   "file_extension": ".py",
   "mimetype": "text/x-python",
   "name": "python",
   "nbconvert_exporter": "python",
   "pygments_lexer": "ipython3",
   "version": "3.11.3"
  }
 },
 "nbformat": 4,
 "nbformat_minor": 5
}
